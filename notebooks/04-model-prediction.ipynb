{
 "cells": [
  {
   "cell_type": "markdown",
   "id": "70a49907",
   "metadata": {},
   "source": [
    "# Hepatitis C Prediction - Making Predictions\n",
    "\n",
    "This notebook demonstrates how to use the trained model to make predictions on new patient data.\n",
    "\n",
    "## Features Required for Prediction\n",
    "\n",
    "The model expects 12 numerical features:\n",
    "1. **Age**: Patient age\n",
    "2. **Sex**: Gender (0=Female, 1=Male) \n",
    "3. **ALB**: Albumin level\n",
    "4. **ALP**: Alkaline phosphatase level\n",
    "5. **ALT**: Alanine aminotransferase level\n",
    "6. **AST**: Aspartate aminotransferase level\n",
    "7. **BIL**: Bilirubin level\n",
    "8. **CHE**: Cholinesterase level\n",
    "9. **CHOL**: Cholesterol level\n",
    "10. **CREA**: Creatinine level\n",
    "11. **GGT**: Gamma-glutamyl transferase level\n",
    "12. **PROT**: Protein level"
   ]
  },
  {
   "cell_type": "markdown",
   "id": "7d16d6ae",
   "metadata": {},
   "source": [
    "## 1. Import Libraries and Load Model"
   ]
  },
  {
   "cell_type": "code",
   "execution_count": 3,
   "id": "31424089",
   "metadata": {},
   "outputs": [
    {
     "name": "stdout",
     "output_type": "stream",
     "text": [
      "Model loaded from: ../models/hepatitis_model.pth\n",
      "Scaler loaded from: ../data/processed/preprocessing_info.pkl\n",
      "Using device: cpu\n"
     ]
    }
   ],
   "source": [
    "import sys\n",
    "import os\n",
    "sys.path.append('../src')\n",
    "\n",
    "import torch\n",
    "import numpy as np\n",
    "import pandas as pd\n",
    "import pickle\n",
    "from models import HepatitisNet, load_model\n",
    "\n",
    "device = torch.device('cuda' if torch.cuda.is_available() else 'cpu')\n",
    "model_path = '../models/hepatitis_model.pth'\n",
    "model, _ = load_model(model_path, HepatitisNet, input_size=12)\n",
    "model = model.to(device)\n",
    "print(f\"Model loaded from: {model_path}\")\n",
    "\n",
    "preprocessing_path = '../data/processed/preprocessing_info.pkl'\n",
    "with open(preprocessing_path, 'rb') as f:\n",
    "    preprocessing_info = pickle.load(f)\n",
    "\n",
    "scaler = preprocessing_info['scaler']\n",
    "print(f\"Scaler loaded from: {preprocessing_path}\")\n",
    "\n",
    "print(f\"Using device: {device}\")"
   ]
  },
  {
   "cell_type": "markdown",
   "id": "34eb4c70",
   "metadata": {},
   "source": [
    "## 2. Create Prediction Function"
   ]
  },
  {
   "cell_type": "code",
   "execution_count": 4,
   "id": "5cf62c9c",
   "metadata": {},
   "outputs": [
    {
     "name": "stdout",
     "output_type": "stream",
     "text": [
      "Feature order: ['Age', 'Sex', 'ALB', 'ALP', 'ALT', 'AST', 'BIL', 'CHE', 'CHOL', 'CREA', 'GGT', 'PROT']\n"
     ]
    }
   ],
   "source": [
    "def predict_hepatitis(patient_data, model, scaler, device):\n",
    "\n",
    "    if isinstance(patient_data, dict):\n",
    "        features = list(patient_data.values())\n",
    "    else:\n",
    "        features = patient_data\n",
    "    \n",
    "    features = np.array(features).reshape(1, -1)\n",
    "    \n",
    "    features_scaled = scaler.transform(features)\n",
    "    \n",
    "    features_tensor = torch.FloatTensor(features_scaled).to(device)\n",
    "\n",
    "    model.eval()\n",
    "    with torch.no_grad():\n",
    "        output = model(features_tensor)\n",
    "        probabilities = torch.softmax(output, dim=1)\n",
    "        prediction = output.argmax(dim=1).item()\n",
    "        confidence = probabilities[0][prediction].item()\n",
    "    \n",
    "    return prediction, confidence\n",
    "\n",
    "feature_names = ['Age', 'Sex', 'ALB', 'ALP', 'ALT', 'AST', 'BIL', 'CHE', 'CHOL', 'CREA', 'GGT', 'PROT']\n",
    "print(\"Feature order:\", feature_names)"
   ]
  },
  {
   "cell_type": "markdown",
   "id": "3d631a80",
   "metadata": {},
   "source": [
    "## 3. Example Predictions"
   ]
  },
  {
   "cell_type": "code",
   "execution_count": 5,
   "id": "d8d5e41f",
   "metadata": {},
   "outputs": [
    {
     "name": "stdout",
     "output_type": "stream",
     "text": [
      "Patient 1 Prediction: No Hepatitis C (Confidence: 0.995)\n",
      "Patient 2 Prediction: No Hepatitis C (Confidence: 0.989)\n",
      "Patient 3 Prediction: No Hepatitis C (Confidence: 0.928)\n"
     ]
    },
    {
     "name": "stderr",
     "output_type": "stream",
     "text": [
      "c:\\Users\\2012m\\Desktop\\HEPATITIS C\\.venv\\lib\\site-packages\\sklearn\\utils\\validation.py:2749: UserWarning: X does not have valid feature names, but StandardScaler was fitted with feature names\n",
      "  warnings.warn(\n",
      "c:\\Users\\2012m\\Desktop\\HEPATITIS C\\.venv\\lib\\site-packages\\sklearn\\utils\\validation.py:2749: UserWarning: X does not have valid feature names, but StandardScaler was fitted with feature names\n",
      "  warnings.warn(\n",
      "c:\\Users\\2012m\\Desktop\\HEPATITIS C\\.venv\\lib\\site-packages\\sklearn\\utils\\validation.py:2749: UserWarning: X does not have valid feature names, but StandardScaler was fitted with feature names\n",
      "  warnings.warn(\n"
     ]
    }
   ],
   "source": [
    "patient_1 = {\n",
    "    'Age': 45,\n",
    "    'Sex': 1, \n",
    "    'ALB': 38.5,\n",
    "    'ALP': 52.5,\n",
    "    'ALT': 7.7,\n",
    "    'AST': 22.1,\n",
    "    'BIL': 7.5,\n",
    "    'CHE': 6.93,\n",
    "    'CHOL': 3.23,\n",
    "    'CREA': 106.0,\n",
    "    'GGT': 12.1,\n",
    "    'PROT': 69.0\n",
    "}\n",
    "\n",
    "prediction_1, confidence_1 = predict_hepatitis(patient_1, model, scaler, device)\n",
    "result_1 = \"Hepatitis C\" if prediction_1 == 1 else \"No Hepatitis C\"\n",
    "print(f\"Patient 1 Prediction: {result_1} (Confidence: {confidence_1:.3f})\")\n",
    "\n",
    "patient_2_data = [32, 0, 40.2, 74.0, 25.3, 31.2, 6.8, 7.2, 4.1, 85.0, 18.4, 72.5]\n",
    "prediction_2, confidence_2 = predict_hepatitis(patient_2_data, model, scaler, device)\n",
    "result_2 = \"Hepatitis C\" if prediction_2 == 1 else \"No Hepatitis C\"\n",
    "print(f\"Patient 2 Prediction: {result_2} (Confidence: {confidence_2:.3f})\")\n",
    "\n",
    "patient_3_data = [55, 1, 35.1, 95.2, 45.8, 62.3, 12.4, 5.8, 2.9, 125.0, 87.6, 68.2]\n",
    "prediction_3, confidence_3 = predict_hepatitis(patient_3_data, model, scaler, device)\n",
    "result_3 = \"Hepatitis C\" if prediction_3 == 1 else \"No Hepatitis C\"\n",
    "print(f\"Patient 3 Prediction: {result_3} (Confidence: {confidence_3:.3f})\")"
   ]
  },
  {
   "cell_type": "markdown",
   "id": "7cc9fa46",
   "metadata": {},
   "source": [
    "## 4. Batch Predictions from CSV"
   ]
  },
  {
   "cell_type": "code",
   "execution_count": 6,
   "id": "16d2957b",
   "metadata": {},
   "outputs": [
    {
     "name": "stdout",
     "output_type": "stream",
     "text": [
      "Test data not found. You can create a CSV file with patient data to make batch predictions.\n"
     ]
    }
   ],
   "source": [
    "def predict_batch_from_csv(csv_path, model, scaler, device, save_results=True):\n",
    "\n",
    "    df = pd.read_csv(csv_path)\n",
    "    \n",
    "\n",
    "    feature_cols = ['Age', 'Sex', 'ALB', 'ALP', 'ALT', 'AST', 'BIL', 'CHE', 'CHOL', 'CREA', 'GGT', 'PROT']\n",
    "    \n",
    "    predictions = []\n",
    "    confidences = []\n",
    "    \n",
    "    for idx, row in df.iterrows():\n",
    "        patient_data = row[feature_cols].values\n",
    "        pred, conf = predict_hepatitis(patient_data, model, scaler, device)\n",
    "        predictions.append(pred)\n",
    "        confidences.append(conf)\n",
    "\n",
    "    df['Prediction'] = predictions\n",
    "    df['Confidence'] = confidences\n",
    "    df['Result'] = df['Prediction'].map({0: 'No Hepatitis C', 1: 'Hepatitis C'})\n",
    "    \n",
    "    if save_results:\n",
    "        output_path = csv_path.replace('.csv', '_predictions.csv')\n",
    "        df.to_csv(output_path, index=False)\n",
    "        print(f\"Results saved to: {output_path}\")\n",
    "    \n",
    "    return df\n",
    "\n",
    "test_data_path = '../data/processed/X_test.csv'\n",
    "if os.path.exists(test_data_path):\n",
    "    print(\"Making predictions on test data...\")\n",
    "    # Load test features\n",
    "    X_test = pd.read_csv(test_data_path)\n",
    "    \n",
    "    predictions = []\n",
    "    confidences = []\n",
    "    \n",
    "    for idx, row in X_test.iterrows():\n",
    "        pred, conf = predict_hepatitis(row.values, model, scaler, device)\n",
    "        predictions.append(pred)\n",
    "        confidences.append(conf)\n",
    "    \n",
    "    results_df = pd.DataFrame({\n",
    "        'Patient_ID': range(len(predictions)),\n",
    "        'Prediction': predictions[:10],\n",
    "        'Confidence': confidences[:10],\n",
    "        'Result': [('Hepatitis C' if p == 1 else 'No Hepatitis C') for p in predictions[:10]]\n",
    "    })\n",
    "    \n",
    "    print(\"\\nFirst 10 predictions:\")\n",
    "    print(results_df)\n",
    "else:\n",
    "    print(\"Test data not found. You can create a CSV file with patient data to make batch predictions.\")"
   ]
  },
  {
   "cell_type": "markdown",
   "id": "0db11058",
   "metadata": {},
   "source": [
    "## 5. Interactive Prediction Interface"
   ]
  },
  {
   "cell_type": "code",
   "execution_count": 7,
   "id": "83dcf27f",
   "metadata": {},
   "outputs": [
    {
     "name": "stdout",
     "output_type": "stream",
     "text": [
      "To use the interactive prediction interface, uncomment the last line and run this cell.\n"
     ]
    }
   ],
   "source": [
    "def interactive_prediction():\n",
    "\n",
    "    print(\"=== Hepatitis C Prediction Interface ===\")\n",
    "    print(\"Please enter the following patient information:\")\n",
    "    print()\n",
    "    \n",
    "    try:\n",
    "        age = float(input(\"Age: \"))\n",
    "        sex = int(input(\"Sex (0=Female, 1=Male): \"))\n",
    "        alb = float(input(\"ALB (Albumin): \"))\n",
    "        alp = float(input(\"ALP (Alkaline phosphatase): \"))\n",
    "        alt = float(input(\"ALT (Alanine aminotransferase): \"))\n",
    "        ast = float(input(\"AST (Aspartate aminotransferase): \"))\n",
    "        bil = float(input(\"BIL (Bilirubin): \"))\n",
    "        che = float(input(\"CHE (Cholinesterase): \"))\n",
    "        chol = float(input(\"CHOL (Cholesterol): \"))\n",
    "        crea = float(input(\"CREA (Creatinine): \"))\n",
    "        ggt = float(input(\"GGT (Gamma-glutamyl transferase): \"))\n",
    "        prot = float(input(\"PROT (Protein): \"))\n",
    "        \n",
    "        patient_data = [age, sex, alb, alp, alt, ast, bil, che, chol, crea, ggt, prot]\n",
    "        prediction, confidence = predict_hepatitis(patient_data, model, scaler, device)\n",
    "        \n",
    "        result = \"Hepatitis C\" if prediction == 1 else \"No Hepatitis C\"\n",
    "        print(f\"\\n=== PREDICTION RESULT ===\")\n",
    "        print(f\"Diagnosis: {result}\")\n",
    "        print(f\"Confidence: {confidence:.3f} ({confidence*100:.1f}%)\")\n",
    "        \n",
    "        if confidence < 0.7:\n",
    "            print(\"Low confidence - consider additional testing\")\n",
    "        elif confidence > 0.9:\n",
    "            print(\"High confidence prediction\")\n",
    "        else:\n",
    "            print(\"Moderate confidence prediction\")\n",
    "            \n",
    "    except ValueError:\n",
    "        print(\"Invalid input. Please enter numeric values only.\")\n",
    "    except KeyboardInterrupt:\n",
    "        print(\"\\nPrediction cancelled.\")\n",
    "\n",
    "print(\"To use the interactive prediction interface, uncomment the last line and run this cell.\")"
   ]
  },
  {
   "cell_type": "markdown",
   "id": "1a783122",
   "metadata": {},
   "source": [
    "## Summary\n",
    "\n",
    "This notebook provides a complete interface for making predictions with the trained Hepatitis C model:\n",
    "\n",
    "1. **Model Loading**: Load the trained model and preprocessing scaler\n",
    "2. **Prediction Function**: Simple function to predict for individual patients\n",
    "3. **Example Predictions**: Demonstrations with sample patient data\n",
    "4. **Batch Processing**: Function to process multiple patients from CSV files\n",
    "5. **Interactive Interface**: User-friendly input interface for real-time predictions\n",
    "\n",
    "### Usage Notes:\n",
    "- All 12 features must be provided in the correct order\n",
    "- Features are automatically scaled using the same scaler from training\n",
    "- Predictions include both the class (0/1) and confidence score\n",
    "- High confidence (>90%) predictions are more reliable\n",
    "- Low confidence (<70%) predictions may need additional medical evaluation\n",
    "\n",
    "### Feature Reference:\n",
    "- **Age**: Patient age in years\n",
    "- **Sex**: 0=Female, 1=Male\n",
    "- **ALB**: Albumin level (g/L)\n",
    "- **ALP**: Alkaline phosphatase (U/L)\n",
    "- **ALT**: Alanine aminotransferase (U/L)\n",
    "- **AST**: Aspartate aminotransferase (U/L)\n",
    "- **BIL**: Bilirubin (μmol/L)\n",
    "- **CHE**: Cholinesterase (kU/L)\n",
    "- **CHOL**: Cholesterol (mmol/L)\n",
    "- **CREA**: Creatinine (μmol/L)\n",
    "- **GGT**: Gamma-glutamyl transferase (U/L)\n",
    "- **PROT**: Protein (g/L)"
   ]
  }
 ],
 "metadata": {
  "kernelspec": {
   "display_name": "Python 3 (ipykernel)",
   "language": "python",
   "name": "python3"
  },
  "language_info": {
   "codemirror_mode": {
    "name": "ipython",
    "version": 3
   },
   "file_extension": ".py",
   "mimetype": "text/x-python",
   "name": "python",
   "nbconvert_exporter": "python",
   "pygments_lexer": "ipython3",
   "version": "3.8.10"
  }
 },
 "nbformat": 4,
 "nbformat_minor": 5
}
